{
 "cells": [
  {
   "cell_type": "code",
   "execution_count": 43,
   "metadata": {},
   "outputs": [
    {
     "name": "stdout",
     "output_type": "stream",
     "text": [
      "Go to jail!\n"
     ]
    }
   ],
   "source": [
    "import random\n",
    "\n",
    "\n",
    "#Doubles_in_row = 0\n",
    "\n",
    "\n",
    "def RollDice():\n",
    "    Doubles_in_row = 0\n",
    "    DiceOne = [1,2]   #,3,4,5,6\n",
    "    DiceTwo = [1]   #,2,3,4,5,6\n",
    "\n",
    "    while True:\n",
    "        RollOne = random.choice(DiceOne)\n",
    "        RollTwo = random.choice(DiceTwo)\n",
    "\n",
    "        if RollOne == RollTwo:\n",
    "            Doubles_in_row = Doubles_in_row + 1\n",
    "            if Doubles_in_row == 3:\n",
    "                print(\"Go to jail!\")\n",
    "                break\n",
    "        else:\n",
    "            print (RollOne, \"+\", RollTwo, \"=\", (RollOne + RollTwo))\n",
    "            break\n",
    "\n",
    "\n",
    "RollDice()"
   ]
  },
  {
   "cell_type": "code",
   "execution_count": 45,
   "metadata": {},
   "outputs": [],
   "source": []
  },
  {
   "cell_type": "code",
   "execution_count": null,
   "metadata": {},
   "outputs": [],
   "source": []
  },
  {
   "cell_type": "code",
   "execution_count": null,
   "metadata": {},
   "outputs": [],
   "source": []
  }
 ],
 "metadata": {
  "kernelspec": {
   "display_name": "Python 3",
   "language": "python",
   "name": "python3"
  },
  "language_info": {
   "codemirror_mode": {
    "name": "ipython",
    "version": 3
   },
   "file_extension": ".py",
   "mimetype": "text/x-python",
   "name": "python",
   "nbconvert_exporter": "python",
   "pygments_lexer": "ipython3",
   "version": "3.7.6"
  }
 },
 "nbformat": 4,
 "nbformat_minor": 4
}
